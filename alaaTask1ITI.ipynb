{
 "cells": [
  {
   "cell_type": "code",
   "execution_count": 2,
   "id": "af7c69e4-8aaa-4a59-8428-f4fd44051bce",
   "metadata": {},
   "outputs": [
    {
     "name": "stdout",
     "output_type": "stream",
     "text": [
      "a: 7\n",
      "b: 2\n",
      "c: 17\n",
      "d: 27\n",
      "e: 1.6666666666666667\n",
      "f: 1\n",
      "g: 2\n",
      "\n",
      "Float results:\n",
      "a: 7.0\n",
      "b: 2.0\n",
      "c: 17.0\n",
      "d: 27.0\n",
      "e: 1.6666666666666667\n",
      "f: 1.0\n",
      "g: 2.0\n"
     ]
    }
   ],
   "source": [
    "\n",
    "num1 = 3\n",
    "num2 = 4\n",
    "num3 = 5\n",
    "# a\n",
    "print(\"a:\", num1 + num2)        \n",
    "# b\n",
    "print(\"b:\", num3 - num1)         \n",
    "# c\n",
    "print(\"c:\", num1 * num2 + num3)  \n",
    "# d\n",
    "print(\"d:\", num1 * (num2 + num3)) \n",
    "# e\n",
    "print(\"e:\", num3 / num1)       \n",
    "# f\n",
    "print(\"f:\", num3 // num1)        \n",
    "# g\n",
    "print(\"g:\", num3 % num1)   \n",
    "# float\n",
    "num1 = 3.0\n",
    "num2 = 4.0\n",
    "num3 = 5.0\n",
    "print(\"\\nFloat results:\")\n",
    "print(\"a:\", num1 + num2)\n",
    "print(\"b:\", num3 - num1)\n",
    "print(\"c:\", num1 * num2 + num3)\n",
    "print(\"d:\", num1 * (num2 + num3))\n",
    "print(\"e:\", num3 / num1)\n",
    "print(\"f:\", num3 // num1)\n",
    "print(\"g:\", num3 % num1)"
   ]
  },
  {
   "cell_type": "code",
   "execution_count": 3,
   "id": "d5f5ecea-92dd-4b7a-a430-dfeddc281e79",
   "metadata": {},
   "outputs": [
    {
     "name": "stdout",
     "output_type": "stream",
     "text": [
      "\n",
      "2.a: 2.5\n",
      "2.b: 6\n"
     ]
    }
   ],
   "source": [
    "x, y, z, g = 1, 2, 3, 4\n",
    "print(\"\\n2.a:\", x + y * z / g) \n",
    "print(\"2.b:\", y * z)  "
   ]
  },
  {
   "cell_type": "code",
   "execution_count": 4,
   "id": "4edd6df4-e094-43be-ac3d-8aa3fb389d79",
   "metadata": {},
   "outputs": [
    {
     "name": "stdout",
     "output_type": "stream",
     "text": [
      "\n",
      "3.a: Python is a 1000 times fun language\n",
      "3.b: PythonPythonPythonPythonPythonPythonPythonPythonPythonPython\n"
     ]
    }
   ],
   "source": [
    "str_a = \"Python\"\n",
    "str_b = \" is a \"\n",
    "str_c = \" times fun language\"\n",
    "num = 1000\n",
    "\n",
    "# a\n",
    "str_ab = str_a + str_b + str(num) + str_c\n",
    "print(\"\\n3.a:\", str_ab)\n",
    "\n",
    "# b\n",
    "str_a10 = str_a * 10\n",
    "print(\"3.b:\", str_a10)"
   ]
  },
  {
   "cell_type": "code",
   "execution_count": 5,
   "id": "f5a2e45d-0a21-40ed-8398-65ffe6f0a6c2",
   "metadata": {},
   "outputs": [
    {
     "name": "stdout",
     "output_type": "stream",
     "text": [
      "\n",
      "4.a Absolute: 5\n",
      "4.b Round: 3 6\n",
      "4.c Square root: 25.0\n"
     ]
    }
   ],
   "source": [
    "import math\n",
    "\n",
    "num_1, num_2, num_3, num_4 = -5, 3.2, 5.7, 625\n",
    "\n",
    "# a\n",
    "print(\"\\n4.a Absolute:\", abs(num_1)) \n",
    "# b\n",
    "print(\"4.b Round:\", round(num_2), round(num_3)) \n",
    "# c\n",
    "print(\"4.c Square root:\", math.sqrt(num_4)) \n"
   ]
  },
  {
   "cell_type": "code",
   "execution_count": null,
   "id": "a2bf622e-22ab-4a30-be75-795fce2655fd",
   "metadata": {},
   "outputs": [
    {
     "name": "stdin",
     "output_type": "stream",
     "text": [
      "Enter a number:  5\n"
     ]
    },
    {
     "name": "stdout",
     "output_type": "stream",
     "text": [
      "Odd\n"
     ]
    },
    {
     "name": "stdin",
     "output_type": "stream",
     "text": [
      "Enter your score (0-100):  7\n"
     ]
    },
    {
     "name": "stdout",
     "output_type": "stream",
     "text": [
      "Fail\n"
     ]
    }
   ],
   "source": [
    "# 1. Odd or Even\n",
    "num = int(input(\"Enter a number: \"))\n",
    "if num % 2 == 0:\n",
    "    print(\"Even\")\n",
    "else:\n",
    "    print(\"Odd\")\n",
    "\n",
    "\n",
    "# 2. Pass or Fail\n",
    "score = int(input(\"Enter your score (0-100): \"))\n",
    "if score >= 50:\n",
    "    print(\"Pass\")\n",
    "else:\n",
    "    print(\"Fail\")\n",
    "\n",
    "\n",
    "# 3. Largest of 3 numbers\n",
    "a = float(input(\"Enter first number: \"))\n",
    "b = float(input(\"Enter second number: \"))\n",
    "c = float(input(\"Enter third number: \"))\n",
    "largest = a\n",
    "if b > largest:\n",
    "    largest = b\n",
    "if c > largest:\n",
    "    largest = c\n",
    "print(\"Largest number is:\", largest)\n",
    "\n",
    "\n",
    "# 4. Counting with for\n",
    "for i in range(1, 11):\n",
    "    print(i)\n",
    "\n",
    "\n",
    "# 5. Grade Calculator\n",
    "marks = int(input(\"Enter your marks (0-100): \"))\n",
    "if 90 <= marks <= 100:\n",
    "    print(\"Grade: A\")\n",
    "elif 80 <= marks <= 89:\n",
    "    print(\"Grade: B\")\n",
    "elif 70 <= marks <= 79:\n",
    "    print(\"Grade: C\")\n",
    "elif 60 <= marks <= 69:\n",
    "    print(\"Grade: D\")\n",
    "else:\n",
    "    print(\"Grade: F\")\n",
    "\n",
    "\n",
    "# 6. Multiplication Table\n",
    "n = int(input(\"Enter a number for multiplication table: \"))\n",
    "for i in range(1, 11):\n",
    "    print(f\"{n} x {i} = {n * i}\")\n",
    "\n",
    "\n",
    "# 7. Sum of Even Numbers from 1 to 50\n",
    "total = 0\n",
    "for i in range(1, 51):\n",
    "    if i % 2 == 0:\n",
    "        total += i\n",
    "print(\"Sum of even numbers from 1 to 50 is:\", total)\n",
    "\n",
    "\n",
    "# 8. Factorial with while\n",
    "num = int(input(\"Enter a number to find factorial: \"))\n",
    "fact = 1\n",
    "i = 1\n",
    "while i <= num:\n",
    "    fact *= i\n",
    "    i += 1\n",
    "print(f\"Factorial of {num} is:\", fact)\n"
   ]
  },
  {
   "cell_type": "code",
   "execution_count": null,
   "id": "c49f05be-6beb-44f6-b407-d33cfd4d69e4",
   "metadata": {},
   "outputs": [],
   "source": []
  }
 ],
 "metadata": {
  "kernelspec": {
   "display_name": "Python 3 (ipykernel)",
   "language": "python",
   "name": "python3"
  },
  "language_info": {
   "codemirror_mode": {
    "name": "ipython",
    "version": 3
   },
   "file_extension": ".py",
   "mimetype": "text/x-python",
   "name": "python",
   "nbconvert_exporter": "python",
   "pygments_lexer": "ipython3",
   "version": "3.11.7"
  }
 },
 "nbformat": 4,
 "nbformat_minor": 5
}
