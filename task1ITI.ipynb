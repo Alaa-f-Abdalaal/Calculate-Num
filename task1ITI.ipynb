{
  "nbformat": 4,
  "nbformat_minor": 0,
  "metadata": {
    "colab": {
      "provenance": [],
      "authorship_tag": "ABX9TyP3rQ1miEMM58xpx6kvvWQH",
      "include_colab_link": true
    },
    "kernelspec": {
      "name": "python3",
      "display_name": "Python 3"
    },
    "language_info": {
      "name": "python"
    }
  },
  "cells": [
    {
      "cell_type": "markdown",
      "metadata": {
        "id": "view-in-github",
        "colab_type": "text"
      },
      "source": [
        "<a href=\"https://colab.research.google.com/github/Alaa-f-Abdalaal/Calculate-Num/blob/main/task1ITI.ipynb\" target=\"_parent\"><img src=\"https://colab.research.google.com/assets/colab-badge.svg\" alt=\"Open In Colab\"/></a>"
      ]
    },
    {
      "cell_type": "code",
      "execution_count": 5,
      "metadata": {
        "colab": {
          "base_uri": "https://localhost:8080/"
        },
        "id": "YnQSzwTI8YGb",
        "outputId": "568c2973-b001-4ce3-bbe1-5b03fcfed5b9"
      },
      "outputs": [
        {
          "output_type": "stream",
          "name": "stdout",
          "text": [
            "a: 7\n",
            "b: 2\n",
            "c: 17\n",
            "d: 27\n",
            "e: 1.6666666666666667\n",
            "f: 1\n",
            "g: 2\n",
            "\n",
            "Float results:\n",
            "a: 7.0\n",
            "b: 2.0\n",
            "c: 17.0\n",
            "d: 27.0\n",
            "e: 1.6666666666666667\n",
            "f: 1.0\n",
            "g: 2.0\n"
          ]
        }
      ],
      "source": [
        "\n",
        "num1 = 3\n",
        "num2 = 4\n",
        "num3 = 5\n",
        "# a\n",
        "print(\"a:\", num1 + num2)\n",
        "# b\n",
        "print(\"b:\", num3 - num1)\n",
        "# c\n",
        "print(\"c:\", num1 * num2 + num3)\n",
        "# d\n",
        "print(\"d:\", num1 * (num2 + num3))\n",
        "# e\n",
        "print(\"e:\", num3 / num1)\n",
        "# f\n",
        "print(\"f:\", num3 // num1)\n",
        "# g\n",
        "print(\"g:\", num3 % num1)\n",
        "# float\n",
        "num1 = 3.0\n",
        "num2 = 4.0\n",
        "num3 = 5.0\n",
        "print(\"\\nFloat results:\")\n",
        "print(\"a:\", num1 + num2)\n",
        "print(\"b:\", num3 - num1)\n",
        "print(\"c:\", num1 * num2 + num3)\n",
        "print(\"d:\", num1 * (num2 + num3))\n",
        "print(\"e:\", num3 / num1)\n",
        "print(\"f:\", num3 // num1)\n",
        "print(\"g:\", num3 % num1)"
      ]
    },
    {
      "cell_type": "code",
      "source": [
        "x, y, z, g = 1, 2, 3, 4\n",
        "print(\"\\n2.a:\", x + y * z / g)\n",
        "print(\"2.b:\", y * z)"
      ],
      "metadata": {
        "colab": {
          "base_uri": "https://localhost:8080/"
        },
        "id": "GR-zVkOV9K3d",
        "outputId": "5953ffb6-0513-4880-ca76-047bca54b9ac"
      },
      "execution_count": 6,
      "outputs": [
        {
          "output_type": "stream",
          "name": "stdout",
          "text": [
            "\n",
            "2.a: 2.5\n",
            "2.b: 6\n"
          ]
        }
      ]
    },
    {
      "cell_type": "code",
      "source": [
        "str_a = \"Python\"\n",
        "str_b = \" is a \"\n",
        "str_c = \" times fun language\"\n",
        "num = 1000\n",
        "\n",
        "# a\n",
        "str_ab = str_a + str_b + str(num) + str_c\n",
        "print(\"\\n3.a:\", str_ab)\n",
        "\n",
        "# b\n",
        "str_a10 = str_a * 10\n",
        "print(\"3.b:\", str_a10)"
      ],
      "metadata": {
        "colab": {
          "base_uri": "https://localhost:8080/"
        },
        "id": "Zio65-JIA8HD",
        "outputId": "88470922-20b8-401f-c731-93762999467a"
      },
      "execution_count": 7,
      "outputs": [
        {
          "output_type": "stream",
          "name": "stdout",
          "text": [
            "\n",
            "3.a: Python is a 1000 times fun language\n",
            "3.b: PythonPythonPythonPythonPythonPythonPythonPythonPythonPython\n"
          ]
        }
      ]
    },
    {
      "cell_type": "code",
      "source": [
        "import math\n",
        "\n",
        "num_1, num_2, num_3, num_4 = -5, 3.2, 5.7, 625\n",
        "\n",
        "# a\n",
        "print(\"\\n4.a Absolute:\", abs(num_1))\n",
        "# b\n",
        "print(\"4.b Round:\", round(num_2), round(num_3))\n",
        "# c\n",
        "print(\"4.c Square root:\", math.sqrt(num_4))\n"
      ],
      "metadata": {
        "colab": {
          "base_uri": "https://localhost:8080/"
        },
        "id": "p1NhNZn3A76l",
        "outputId": "7c148663-64a0-4e3d-fd33-909a10e626ff"
      },
      "execution_count": 8,
      "outputs": [
        {
          "output_type": "stream",
          "name": "stdout",
          "text": [
            "\n",
            "4.a Absolute: 5\n",
            "4.b Round: 3 6\n",
            "4.c Square root: 25.0\n"
          ]
        }
      ]
    },
    {
      "cell_type": "code",
      "source": [
        "# 1. Odd or Even\n",
        "num = int(input(\"Enter a number: \"))\n",
        "if num % 2 == 0:\n",
        "    print(\"Even\")\n",
        "else:\n",
        "    print(\"Odd\")\n",
        "\n",
        "\n",
        "# 2. Pass or Fail\n",
        "score = int(input(\"Enter your score (0-100): \"))\n",
        "if score >= 50:\n",
        "    print(\"Pass\")\n",
        "else:\n",
        "    print(\"Fail\")\n",
        "\n",
        "\n",
        "# 3. Largest of 3 numbers\n",
        "a = float(input(\"Enter first number: \"))\n",
        "b = float(input(\"Enter second number: \"))\n",
        "c = float(input(\"Enter third number: \"))\n",
        "largest = a\n",
        "if b > largest:\n",
        "    largest = b\n",
        "if c > largest:\n",
        "    largest = c\n",
        "print(\"Largest number is:\", largest)\n",
        "\n",
        "\n",
        "# 4. Counting with for\n",
        "for i in range(1, 11):\n",
        "    print(i)\n",
        "\n",
        "\n",
        "# 5. Grade Calculator\n",
        "marks = int(input(\"Enter your marks (0-100): \"))\n",
        "if 90 <= marks <= 100:\n",
        "    print(\"Grade: A\")\n",
        "elif 80 <= marks <= 89:\n",
        "    print(\"Grade: B\")\n",
        "elif 70 <= marks <= 79:\n",
        "    print(\"Grade: C\")\n",
        "elif 60 <= marks <= 69:\n",
        "    print(\"Grade: D\")\n",
        "else:\n",
        "    print(\"Grade: F\")\n",
        "\n",
        "\n",
        "# 6. Multiplication Table\n",
        "n = int(input(\"Enter a number for multiplication table: \"))\n",
        "for i in range(1, 11):\n",
        "    print(f\"{n} x {i} = {n * i}\")\n",
        "\n",
        "\n",
        "# 7. Sum of Even Numbers from 1 to 50\n",
        "total = 0\n",
        "for i in range(1, 51):\n",
        "    if i % 2 == 0:\n",
        "        total += i\n",
        "print(\"Sum of even numbers from 1 to 50 is:\", total)\n",
        "\n",
        "\n",
        "# 8. Factorial with while\n",
        "num = int(input(\"Enter a number to find factorial: \"))\n",
        "fact = 1\n",
        "i = 1\n",
        "while i <= num:\n",
        "    fact *= i\n",
        "    i += 1\n",
        "print(f\"Factorial of {num} is:\", fact)\n"
      ],
      "metadata": {
        "colab": {
          "base_uri": "https://localhost:8080/"
        },
        "id": "rFYkch_yA7tI",
        "outputId": "240acec6-0437-481b-b849-94fdb972d42f"
      },
      "execution_count": 9,
      "outputs": [
        {
          "output_type": "stream",
          "name": "stdout",
          "text": [
            "Enter a number: 6\n",
            "Even\n",
            "Enter your score (0-100): 7\n",
            "Fail\n",
            "Enter first number: 3\n",
            "Enter second number: 6\n",
            "Enter third number: 4\n",
            "Largest number is: 6.0\n",
            "1\n",
            "2\n",
            "3\n",
            "4\n",
            "5\n",
            "6\n",
            "7\n",
            "8\n",
            "9\n",
            "10\n",
            "Enter your marks (0-100): 7\n",
            "Grade: F\n",
            "Enter a number for multiplication table: 5\n",
            "5 x 1 = 5\n",
            "5 x 2 = 10\n",
            "5 x 3 = 15\n",
            "5 x 4 = 20\n",
            "5 x 5 = 25\n",
            "5 x 6 = 30\n",
            "5 x 7 = 35\n",
            "5 x 8 = 40\n",
            "5 x 9 = 45\n",
            "5 x 10 = 50\n",
            "Sum of even numbers from 1 to 50 is: 650\n",
            "Enter a number to find factorial: 3\n",
            "Factorial of 3 is: 6\n"
          ]
        }
      ]
    },
    {
      "cell_type": "code",
      "source": [],
      "metadata": {
        "id": "iYgzDBdlA8zW"
      },
      "execution_count": null,
      "outputs": []
    },
    {
      "cell_type": "code",
      "source": [],
      "metadata": {
        "id": "2J4igx3EA7bo"
      },
      "execution_count": null,
      "outputs": []
    }
  ]
}